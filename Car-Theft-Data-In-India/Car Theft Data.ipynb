{
 "cells": [
  {
   "cell_type": "code",
   "execution_count": 177,
   "id": "c6323958-08f9-42ae-a856-7a887194a083",
   "metadata": {},
   "outputs": [],
   "source": [
    "import pandas as pd\n",
    "import numpy as np\n",
    "import datetime as dt\n",
    "import matplotlib.pyplot as plt"
   ]
  },
  {
   "cell_type": "code",
   "execution_count": 30,
   "id": "dc8ac65d-7a45-46ec-96f7-603d62152f2b",
   "metadata": {},
   "outputs": [],
   "source": [
    "data = pd.read_csv(\"car_theft_india.csv\")"
   ]
  },
  {
   "cell_type": "code",
   "execution_count": 69,
   "id": "e90908c9-bccd-469b-a671-b475baed67e3",
   "metadata": {},
   "outputs": [
    {
     "data": {
      "text/html": [
       "<div>\n",
       "<style scoped>\n",
       "    .dataframe tbody tr th:only-of-type {\n",
       "        vertical-align: middle;\n",
       "    }\n",
       "\n",
       "    .dataframe tbody tr th {\n",
       "        vertical-align: top;\n",
       "    }\n",
       "\n",
       "    .dataframe thead th {\n",
       "        text-align: right;\n",
       "    }\n",
       "</style>\n",
       "<table border=\"1\" class=\"dataframe\">\n",
       "  <thead>\n",
       "    <tr style=\"text-align: right;\">\n",
       "      <th></th>\n",
       "      <th>Case_ID</th>\n",
       "      <th>Theft_Date</th>\n",
       "      <th>Report_Date</th>\n",
       "      <th>Car_Brand</th>\n",
       "      <th>Car_Model</th>\n",
       "      <th>Year_of_Manufacture</th>\n",
       "      <th>Car_Type</th>\n",
       "      <th>Fuel_Type</th>\n",
       "      <th>Color</th>\n",
       "      <th>Registered_State</th>\n",
       "      <th>...</th>\n",
       "      <th>Police_Station</th>\n",
       "      <th>Is_Recovered</th>\n",
       "      <th>Recovery_Date</th>\n",
       "      <th>Suspect_Identified</th>\n",
       "      <th>Number_of_Prev_Thefts</th>\n",
       "      <th>GPS_Installed</th>\n",
       "      <th>CCTV_Availability</th>\n",
       "      <th>Insurance_Status</th>\n",
       "      <th>Owner_Age_Group</th>\n",
       "      <th>Report_Delay</th>\n",
       "    </tr>\n",
       "  </thead>\n",
       "  <tbody>\n",
       "    <tr>\n",
       "      <th>0</th>\n",
       "      <td>1</td>\n",
       "      <td>2023-10-20</td>\n",
       "      <td>2023-10-23</td>\n",
       "      <td>Renault</td>\n",
       "      <td>Kwid</td>\n",
       "      <td>2021</td>\n",
       "      <td>Pickup</td>\n",
       "      <td>CNG</td>\n",
       "      <td>Blue</td>\n",
       "      <td>Delhi</td>\n",
       "      <td>...</td>\n",
       "      <td>PS-41</td>\n",
       "      <td>No</td>\n",
       "      <td>NaT</td>\n",
       "      <td>No</td>\n",
       "      <td>2</td>\n",
       "      <td>No</td>\n",
       "      <td>Yes</td>\n",
       "      <td>No Insurance</td>\n",
       "      <td>26-40</td>\n",
       "      <td>3 days</td>\n",
       "    </tr>\n",
       "    <tr>\n",
       "      <th>1</th>\n",
       "      <td>2</td>\n",
       "      <td>2023-07-03</td>\n",
       "      <td>2023-07-10</td>\n",
       "      <td>Tata</td>\n",
       "      <td>Nexon</td>\n",
       "      <td>2005</td>\n",
       "      <td>Sedan</td>\n",
       "      <td>Diesel</td>\n",
       "      <td>Black</td>\n",
       "      <td>Delhi</td>\n",
       "      <td>...</td>\n",
       "      <td>PS-41</td>\n",
       "      <td>No</td>\n",
       "      <td>NaT</td>\n",
       "      <td>No</td>\n",
       "      <td>0</td>\n",
       "      <td>No</td>\n",
       "      <td>No</td>\n",
       "      <td>Valid</td>\n",
       "      <td>41-60</td>\n",
       "      <td>7 days</td>\n",
       "    </tr>\n",
       "    <tr>\n",
       "      <th>2</th>\n",
       "      <td>3</td>\n",
       "      <td>2023-03-30</td>\n",
       "      <td>2023-03-30</td>\n",
       "      <td>Nissan</td>\n",
       "      <td>Magnite</td>\n",
       "      <td>2008</td>\n",
       "      <td>Hatchback</td>\n",
       "      <td>CNG</td>\n",
       "      <td>Yellow</td>\n",
       "      <td>Maharashtra</td>\n",
       "      <td>...</td>\n",
       "      <td>PS-15</td>\n",
       "      <td>No</td>\n",
       "      <td>NaT</td>\n",
       "      <td>No</td>\n",
       "      <td>0</td>\n",
       "      <td>No</td>\n",
       "      <td>No</td>\n",
       "      <td>Valid</td>\n",
       "      <td>60+</td>\n",
       "      <td>0 days</td>\n",
       "    </tr>\n",
       "    <tr>\n",
       "      <th>3</th>\n",
       "      <td>4</td>\n",
       "      <td>2023-09-05</td>\n",
       "      <td>2023-09-10</td>\n",
       "      <td>Hyundai</td>\n",
       "      <td>Verna</td>\n",
       "      <td>2009</td>\n",
       "      <td>Hatchback</td>\n",
       "      <td>CNG</td>\n",
       "      <td>Green</td>\n",
       "      <td>Delhi</td>\n",
       "      <td>...</td>\n",
       "      <td>PS-25</td>\n",
       "      <td>No</td>\n",
       "      <td>NaT</td>\n",
       "      <td>No</td>\n",
       "      <td>1</td>\n",
       "      <td>No</td>\n",
       "      <td>Yes</td>\n",
       "      <td>Expired</td>\n",
       "      <td>60+</td>\n",
       "      <td>5 days</td>\n",
       "    </tr>\n",
       "    <tr>\n",
       "      <th>4</th>\n",
       "      <td>5</td>\n",
       "      <td>2023-05-09</td>\n",
       "      <td>2023-05-14</td>\n",
       "      <td>Honda</td>\n",
       "      <td>Amaze</td>\n",
       "      <td>2008</td>\n",
       "      <td>SUV</td>\n",
       "      <td>CNG</td>\n",
       "      <td>Green</td>\n",
       "      <td>Delhi</td>\n",
       "      <td>...</td>\n",
       "      <td>PS-23</td>\n",
       "      <td>No</td>\n",
       "      <td>NaT</td>\n",
       "      <td>No</td>\n",
       "      <td>1</td>\n",
       "      <td>No</td>\n",
       "      <td>Yes</td>\n",
       "      <td>Valid</td>\n",
       "      <td>18-25</td>\n",
       "      <td>5 days</td>\n",
       "    </tr>\n",
       "  </tbody>\n",
       "</table>\n",
       "<p>5 rows × 23 columns</p>\n",
       "</div>"
      ],
      "text/plain": [
       "   Case_ID Theft_Date Report_Date Car_Brand Car_Model  Year_of_Manufacture  \\\n",
       "0        1 2023-10-20  2023-10-23   Renault      Kwid                 2021   \n",
       "1        2 2023-07-03  2023-07-10      Tata     Nexon                 2005   \n",
       "2        3 2023-03-30  2023-03-30    Nissan   Magnite                 2008   \n",
       "3        4 2023-09-05  2023-09-10   Hyundai     Verna                 2009   \n",
       "4        5 2023-05-09  2023-05-14     Honda     Amaze                 2008   \n",
       "\n",
       "    Car_Type Fuel_Type   Color Registered_State  ... Police_Station  \\\n",
       "0     Pickup       CNG    Blue            Delhi  ...          PS-41   \n",
       "1      Sedan    Diesel   Black            Delhi  ...          PS-41   \n",
       "2  Hatchback       CNG  Yellow      Maharashtra  ...          PS-15   \n",
       "3  Hatchback       CNG   Green            Delhi  ...          PS-25   \n",
       "4        SUV       CNG   Green            Delhi  ...          PS-23   \n",
       "\n",
       "  Is_Recovered Recovery_Date Suspect_Identified Number_of_Prev_Thefts  \\\n",
       "0           No           NaT                 No                     2   \n",
       "1           No           NaT                 No                     0   \n",
       "2           No           NaT                 No                     0   \n",
       "3           No           NaT                 No                     1   \n",
       "4           No           NaT                 No                     1   \n",
       "\n",
       "  GPS_Installed CCTV_Availability  Insurance_Status Owner_Age_Group  \\\n",
       "0            No               Yes      No Insurance           26-40   \n",
       "1            No                No             Valid           41-60   \n",
       "2            No                No             Valid             60+   \n",
       "3            No               Yes           Expired             60+   \n",
       "4            No               Yes             Valid           18-25   \n",
       "\n",
       "  Report_Delay  \n",
       "0       3 days  \n",
       "1       7 days  \n",
       "2       0 days  \n",
       "3       5 days  \n",
       "4       5 days  \n",
       "\n",
       "[5 rows x 23 columns]"
      ]
     },
     "execution_count": 69,
     "metadata": {},
     "output_type": "execute_result"
    }
   ],
   "source": [
    "data.head()"
   ]
  },
  {
   "cell_type": "code",
   "execution_count": 11,
   "id": "8fd5f863-3c4b-43fa-86de-85a7f093e70b",
   "metadata": {},
   "outputs": [],
   "source": [
    "remove = [\"Car_Brand\",\"Car_Model\",\"Year_of_Manufacture\",\"Car_Type\",\"Fuel_Type\"]\n",
    "data.drop(remove, axis = 1, inplace = True)"
   ]
  },
  {
   "cell_type": "code",
   "execution_count": 57,
   "id": "595dfa89-2c05-477a-bac8-82532016ad44",
   "metadata": {},
   "outputs": [],
   "source": [
    "data['Theft_Date'] = pd.to_datetime(data['Theft_Date'])\n",
    "data['Report_Date'] = pd.to_datetime(data['Report_Date'])\n",
    "data[\"Recovery_Date\"] = data[\"Recovery_Date\"].replace(\"\", np.nan)\n",
    "data[\"Recovery_Date\"] = pd.to_datetime(data[\"Recovery_Date\"])"
   ]
  },
  {
   "cell_type": "markdown",
   "id": "c8eeb59b-9508-41b3-b68b-45d4af735df5",
   "metadata": {},
   "source": [
    "## Basic Analysis\n",
    "\n",
    "- Find the total number of theft cases recorded in the dataset.\n",
    "- Count the number of unique car brands involved in thefts.\n",
    "- Identify the top 5 most stolen car models.\n",
    "- Find the most common fuel type among stolen cars.\n",
    "- Get the number of thefts reported for each state."
   ]
  },
  {
   "cell_type": "code",
   "execution_count": 28,
   "id": "46a1f286-ab1e-4166-8ebd-dfb9128bf256",
   "metadata": {},
   "outputs": [
    {
     "data": {
      "text/plain": [
       "10000"
      ]
     },
     "execution_count": 28,
     "metadata": {},
     "output_type": "execute_result"
    }
   ],
   "source": [
    "data[\"Case_ID\"].count()"
   ]
  },
  {
   "cell_type": "code",
   "execution_count": 40,
   "id": "ed7970f8-10c4-40f9-a291-6fceaf74b387",
   "metadata": {},
   "outputs": [
    {
     "data": {
      "text/plain": [
       "10"
      ]
     },
     "execution_count": 40,
     "metadata": {},
     "output_type": "execute_result"
    }
   ],
   "source": [
    "data[\"Car_Brand\"].nunique()"
   ]
  },
  {
   "cell_type": "code",
   "execution_count": 44,
   "id": "95c351a5-e0a1-43bf-8ad3-5f6db00009e3",
   "metadata": {},
   "outputs": [
    {
     "data": {
      "text/plain": [
       "Car_Model\n",
       "Aspire     360\n",
       "Scorpio    352\n",
       "Kwid       348\n",
       "Carens     341\n",
       "Kicks      339\n",
       "Name: count, dtype: int64"
      ]
     },
     "execution_count": 44,
     "metadata": {},
     "output_type": "execute_result"
    }
   ],
   "source": [
    "data[\"Car_Model\"].value_counts().head()"
   ]
  },
  {
   "cell_type": "code",
   "execution_count": 48,
   "id": "d69cab4d-764d-432f-8c07-6a661da71fe0",
   "metadata": {},
   "outputs": [
    {
     "data": {
      "text/plain": [
       "Fuel_Type\n",
       "Diesel    2591\n",
       "Name: count, dtype: int64"
      ]
     },
     "execution_count": 48,
     "metadata": {},
     "output_type": "execute_result"
    }
   ],
   "source": [
    "data[\"Fuel_Type\"].value_counts().head(1)"
   ]
  },
  {
   "cell_type": "code",
   "execution_count": 54,
   "id": "ca277f57-6ad8-41fe-88f2-d1dc3d3e4fb1",
   "metadata": {},
   "outputs": [
    {
     "data": {
      "text/plain": [
       "Registered_State\n",
       "Gujarat           1047\n",
       "Rajasthan         1040\n",
       "Maharashtra       1009\n",
       "Punjab            1007\n",
       "West Bengal       1004\n",
       "Karnataka          990\n",
       "Tamil Nadu         989\n",
       "Madhya Pradesh     986\n",
       "Delhi              970\n",
       "Uttar Pradesh      958\n",
       "Name: count, dtype: int64"
      ]
     },
     "execution_count": 54,
     "metadata": {},
     "output_type": "execute_result"
    }
   ],
   "source": [
    "data[\"Registered_State\"].value_counts()"
   ]
  },
  {
   "cell_type": "markdown",
   "id": "a9702158-dc7d-4712-9a82-239ce069c9b0",
   "metadata": {},
   "source": [
    "## Time-Based Analysis\n",
    "\n",
    "- Find the average delay (in days) between theft and report dates.\n",
    "- Determine which month had the highest number of thefts.\n",
    "- Identify the most common time of the day for car thefts (Morning, Afternoon, Evening, Night).\n",
    "- Find the average recovery time for recovered vehicles."
   ]
  },
  {
   "cell_type": "code",
   "execution_count": 67,
   "id": "34b1c1b6-a2f0-4190-bea1-696f7541f852",
   "metadata": {},
   "outputs": [],
   "source": [
    "data[\"Report_Delay\"] = (data[\"Report_Date\"] - data[\"Theft_Date\"])"
   ]
  },
  {
   "cell_type": "code",
   "execution_count": 87,
   "id": "dd97a928-6b2d-4b18-9258-d3d416fa5129",
   "metadata": {},
   "outputs": [
    {
     "data": {
      "text/plain": [
       "Timedelta('3 days 12:45:12.960000')"
      ]
     },
     "execution_count": 87,
     "metadata": {},
     "output_type": "execute_result"
    }
   ],
   "source": [
    "data[\"Report_Delay\"].mean()"
   ]
  },
  {
   "cell_type": "code",
   "execution_count": 107,
   "id": "938413ac-b9ce-4c80-ad3e-91333b328999",
   "metadata": {},
   "outputs": [
    {
     "data": {
      "text/plain": [
       "5"
      ]
     },
     "execution_count": 107,
     "metadata": {},
     "output_type": "execute_result"
    }
   ],
   "source": [
    "data[\"Theft_Date\"].dt.month.value_counts().idxmax()"
   ]
  },
  {
   "cell_type": "code",
   "execution_count": 105,
   "id": "1aabbc33-b8b6-4735-9679-2cdaddd47740",
   "metadata": {},
   "outputs": [
    {
     "data": {
      "text/plain": [
       "'Evening'"
      ]
     },
     "execution_count": 105,
     "metadata": {},
     "output_type": "execute_result"
    }
   ],
   "source": [
    "data[\"Time_of_Theft\"].value_counts().idxmax()"
   ]
  },
  {
   "cell_type": "code",
   "execution_count": 109,
   "id": "977481fc-359c-4cdf-a253-838f0147901e",
   "metadata": {},
   "outputs": [],
   "source": [
    "data[\"Recovery_Time\"] = (data[\"Recovery_Date\"] - data[\"Theft_Date\"]).dt.days"
   ]
  },
  {
   "cell_type": "code",
   "execution_count": 111,
   "id": "58ef36c6-a8a9-436b-96bb-665852443a8f",
   "metadata": {},
   "outputs": [
    {
     "data": {
      "text/plain": [
       "18.471884248602432"
      ]
     },
     "execution_count": 111,
     "metadata": {},
     "output_type": "execute_result"
    }
   ],
   "source": [
    "data[\"Recovery_Time\"].mean()"
   ]
  },
  {
   "cell_type": "code",
   "execution_count": 120,
   "id": "de257ee4-32a3-4389-a68c-07f10943048f",
   "metadata": {},
   "outputs": [
    {
     "data": {
      "text/html": [
       "<div>\n",
       "<style scoped>\n",
       "    .dataframe tbody tr th:only-of-type {\n",
       "        vertical-align: middle;\n",
       "    }\n",
       "\n",
       "    .dataframe tbody tr th {\n",
       "        vertical-align: top;\n",
       "    }\n",
       "\n",
       "    .dataframe thead th {\n",
       "        text-align: right;\n",
       "    }\n",
       "</style>\n",
       "<table border=\"1\" class=\"dataframe\">\n",
       "  <thead>\n",
       "    <tr style=\"text-align: right;\">\n",
       "      <th></th>\n",
       "      <th>Case_ID</th>\n",
       "      <th>Theft_Date</th>\n",
       "      <th>Report_Date</th>\n",
       "      <th>Car_Brand</th>\n",
       "      <th>Car_Model</th>\n",
       "      <th>Year_of_Manufacture</th>\n",
       "      <th>Car_Type</th>\n",
       "      <th>Fuel_Type</th>\n",
       "      <th>Color</th>\n",
       "      <th>Registered_State</th>\n",
       "      <th>...</th>\n",
       "      <th>Is_Recovered</th>\n",
       "      <th>Recovery_Date</th>\n",
       "      <th>Suspect_Identified</th>\n",
       "      <th>Number_of_Prev_Thefts</th>\n",
       "      <th>GPS_Installed</th>\n",
       "      <th>CCTV_Availability</th>\n",
       "      <th>Insurance_Status</th>\n",
       "      <th>Owner_Age_Group</th>\n",
       "      <th>Report_Delay</th>\n",
       "      <th>Recovery_Time</th>\n",
       "    </tr>\n",
       "  </thead>\n",
       "  <tbody>\n",
       "    <tr>\n",
       "      <th>0</th>\n",
       "      <td>1</td>\n",
       "      <td>2023-10-20</td>\n",
       "      <td>2023-10-23</td>\n",
       "      <td>Renault</td>\n",
       "      <td>Kwid</td>\n",
       "      <td>2021</td>\n",
       "      <td>Pickup</td>\n",
       "      <td>CNG</td>\n",
       "      <td>Blue</td>\n",
       "      <td>Delhi</td>\n",
       "      <td>...</td>\n",
       "      <td>No</td>\n",
       "      <td>NaT</td>\n",
       "      <td>No</td>\n",
       "      <td>2</td>\n",
       "      <td>No</td>\n",
       "      <td>Yes</td>\n",
       "      <td>No Insurance</td>\n",
       "      <td>26-40</td>\n",
       "      <td>3 days</td>\n",
       "      <td>NaN</td>\n",
       "    </tr>\n",
       "    <tr>\n",
       "      <th>1</th>\n",
       "      <td>2</td>\n",
       "      <td>2023-07-03</td>\n",
       "      <td>2023-07-10</td>\n",
       "      <td>Tata</td>\n",
       "      <td>Nexon</td>\n",
       "      <td>2005</td>\n",
       "      <td>Sedan</td>\n",
       "      <td>Diesel</td>\n",
       "      <td>Black</td>\n",
       "      <td>Delhi</td>\n",
       "      <td>...</td>\n",
       "      <td>No</td>\n",
       "      <td>NaT</td>\n",
       "      <td>No</td>\n",
       "      <td>0</td>\n",
       "      <td>No</td>\n",
       "      <td>No</td>\n",
       "      <td>Valid</td>\n",
       "      <td>41-60</td>\n",
       "      <td>7 days</td>\n",
       "      <td>NaN</td>\n",
       "    </tr>\n",
       "    <tr>\n",
       "      <th>2</th>\n",
       "      <td>3</td>\n",
       "      <td>2023-03-30</td>\n",
       "      <td>2023-03-30</td>\n",
       "      <td>Nissan</td>\n",
       "      <td>Magnite</td>\n",
       "      <td>2008</td>\n",
       "      <td>Hatchback</td>\n",
       "      <td>CNG</td>\n",
       "      <td>Yellow</td>\n",
       "      <td>Maharashtra</td>\n",
       "      <td>...</td>\n",
       "      <td>No</td>\n",
       "      <td>NaT</td>\n",
       "      <td>No</td>\n",
       "      <td>0</td>\n",
       "      <td>No</td>\n",
       "      <td>No</td>\n",
       "      <td>Valid</td>\n",
       "      <td>60+</td>\n",
       "      <td>0 days</td>\n",
       "      <td>NaN</td>\n",
       "    </tr>\n",
       "    <tr>\n",
       "      <th>3</th>\n",
       "      <td>4</td>\n",
       "      <td>2023-09-05</td>\n",
       "      <td>2023-09-10</td>\n",
       "      <td>Hyundai</td>\n",
       "      <td>Verna</td>\n",
       "      <td>2009</td>\n",
       "      <td>Hatchback</td>\n",
       "      <td>CNG</td>\n",
       "      <td>Green</td>\n",
       "      <td>Delhi</td>\n",
       "      <td>...</td>\n",
       "      <td>No</td>\n",
       "      <td>NaT</td>\n",
       "      <td>No</td>\n",
       "      <td>1</td>\n",
       "      <td>No</td>\n",
       "      <td>Yes</td>\n",
       "      <td>Expired</td>\n",
       "      <td>60+</td>\n",
       "      <td>5 days</td>\n",
       "      <td>NaN</td>\n",
       "    </tr>\n",
       "    <tr>\n",
       "      <th>4</th>\n",
       "      <td>5</td>\n",
       "      <td>2023-05-09</td>\n",
       "      <td>2023-05-14</td>\n",
       "      <td>Honda</td>\n",
       "      <td>Amaze</td>\n",
       "      <td>2008</td>\n",
       "      <td>SUV</td>\n",
       "      <td>CNG</td>\n",
       "      <td>Green</td>\n",
       "      <td>Delhi</td>\n",
       "      <td>...</td>\n",
       "      <td>No</td>\n",
       "      <td>NaT</td>\n",
       "      <td>No</td>\n",
       "      <td>1</td>\n",
       "      <td>No</td>\n",
       "      <td>Yes</td>\n",
       "      <td>Valid</td>\n",
       "      <td>18-25</td>\n",
       "      <td>5 days</td>\n",
       "      <td>NaN</td>\n",
       "    </tr>\n",
       "  </tbody>\n",
       "</table>\n",
       "<p>5 rows × 24 columns</p>\n",
       "</div>"
      ],
      "text/plain": [
       "   Case_ID Theft_Date Report_Date Car_Brand Car_Model  Year_of_Manufacture  \\\n",
       "0        1 2023-10-20  2023-10-23   Renault      Kwid                 2021   \n",
       "1        2 2023-07-03  2023-07-10      Tata     Nexon                 2005   \n",
       "2        3 2023-03-30  2023-03-30    Nissan   Magnite                 2008   \n",
       "3        4 2023-09-05  2023-09-10   Hyundai     Verna                 2009   \n",
       "4        5 2023-05-09  2023-05-14     Honda     Amaze                 2008   \n",
       "\n",
       "    Car_Type Fuel_Type   Color Registered_State  ... Is_Recovered  \\\n",
       "0     Pickup       CNG    Blue            Delhi  ...           No   \n",
       "1      Sedan    Diesel   Black            Delhi  ...           No   \n",
       "2  Hatchback       CNG  Yellow      Maharashtra  ...           No   \n",
       "3  Hatchback       CNG   Green            Delhi  ...           No   \n",
       "4        SUV       CNG   Green            Delhi  ...           No   \n",
       "\n",
       "  Recovery_Date Suspect_Identified Number_of_Prev_Thefts GPS_Installed  \\\n",
       "0           NaT                 No                     2            No   \n",
       "1           NaT                 No                     0            No   \n",
       "2           NaT                 No                     0            No   \n",
       "3           NaT                 No                     1            No   \n",
       "4           NaT                 No                     1            No   \n",
       "\n",
       "  CCTV_Availability Insurance_Status  Owner_Age_Group Report_Delay  \\\n",
       "0               Yes     No Insurance            26-40       3 days   \n",
       "1                No            Valid            41-60       7 days   \n",
       "2                No            Valid              60+       0 days   \n",
       "3               Yes          Expired              60+       5 days   \n",
       "4               Yes            Valid            18-25       5 days   \n",
       "\n",
       "  Recovery_Time  \n",
       "0           NaN  \n",
       "1           NaN  \n",
       "2           NaN  \n",
       "3           NaN  \n",
       "4           NaN  \n",
       "\n",
       "[5 rows x 24 columns]"
      ]
     },
     "execution_count": 120,
     "metadata": {},
     "output_type": "execute_result"
    }
   ],
   "source": [
    "data.head()"
   ]
  },
  {
   "cell_type": "code",
   "execution_count": 124,
   "id": "8d4dc334-04cc-4e12-b396-8e15a2ff14d2",
   "metadata": {},
   "outputs": [
    {
     "data": {
      "text/plain": [
       "Index(['Case_ID', 'Theft_Date', 'Report_Date', 'Car_Brand', 'Car_Model',\n",
       "       'Year_of_Manufacture', 'Car_Type', 'Fuel_Type', 'Color',\n",
       "       'Registered_State', 'Registered_City', 'Location_of_Theft',\n",
       "       'Time_of_Theft', 'Police_Station', 'Is_Recovered', 'Recovery_Date',\n",
       "       'Suspect_Identified', 'Number_of_Prev_Thefts', 'GPS_Installed',\n",
       "       'CCTV_Availability', 'Insurance_Status', 'Owner_Age_Group',\n",
       "       'Report_Delay', 'Recovery_Time'],\n",
       "      dtype='object')"
      ]
     },
     "execution_count": 124,
     "metadata": {},
     "output_type": "execute_result"
    }
   ],
   "source": [
    "data.columns"
   ]
  },
  {
   "cell_type": "markdown",
   "id": "c7caaa8d-5371-4c3c-944e-3d214129481c",
   "metadata": {},
   "source": [
    "## Location-Based Analysis\n",
    "\n",
    "- List the top 3 cities with the most car thefts.\n",
    "- Find out which police station handled the highest number of theft cases.\n",
    "- Analyze which locations (Location_of_Theft) are most prone to car thefts."
   ]
  },
  {
   "cell_type": "code",
   "execution_count": 118,
   "id": "41d2648c-b846-44dd-9fec-c76d1e880e69",
   "metadata": {},
   "outputs": [
    {
     "data": {
      "text/plain": [
       "Registered_City\n",
       "Mumbai      363\n",
       "Vadodara    362\n",
       "Udaipur     360\n",
       "Name: count, dtype: int64"
      ]
     },
     "execution_count": 118,
     "metadata": {},
     "output_type": "execute_result"
    }
   ],
   "source": [
    "data[\"Registered_City\"].value_counts().head(3)"
   ]
  },
  {
   "cell_type": "code",
   "execution_count": 134,
   "id": "c4fcb37c-b325-4468-851a-3893130e0167",
   "metadata": {},
   "outputs": [
    {
     "data": {
      "text/plain": [
       "'PS-59'"
      ]
     },
     "execution_count": 134,
     "metadata": {},
     "output_type": "execute_result"
    }
   ],
   "source": [
    "data[\"Police_Station\"].value_counts().idxmax()"
   ]
  },
  {
   "cell_type": "code",
   "execution_count": 136,
   "id": "62cf1cbd-79e0-4d20-951b-5291e8de7b69",
   "metadata": {},
   "outputs": [
    {
     "data": {
      "text/plain": [
       "'Area-46'"
      ]
     },
     "execution_count": 136,
     "metadata": {},
     "output_type": "execute_result"
    }
   ],
   "source": [
    "data[\"Location_of_Theft\"].value_counts().idxmax()"
   ]
  },
  {
   "cell_type": "code",
   "execution_count": null,
   "id": "841627e8-8905-410a-bb31-e7798e2d1680",
   "metadata": {},
   "outputs": [],
   "source": []
  },
  {
   "cell_type": "markdown",
   "id": "ee568ba6-a7cc-4dff-af4b-8a5dc2008d8a",
   "metadata": {},
   "source": [
    "## Recovery & Investigation\n",
    "\n",
    "- Calculate the percentage of cars that were recovered.\n",
    "- Identify the percentage of cases where the suspect was identified.\n",
    "- Find the most common car color among recovered vehicles."
   ]
  },
  {
   "cell_type": "code",
   "execution_count": 153,
   "id": "9427492d-09d8-4489-9ee5-d2117a7c30a7",
   "metadata": {},
   "outputs": [
    {
     "data": {
      "text/plain": [
       "30.409999999999997"
      ]
     },
     "execution_count": 153,
     "metadata": {},
     "output_type": "execute_result"
    }
   ],
   "source": [
    "(data[\"Is_Recovered\"].str.lower() == \"yes\").mean() * 100"
   ]
  },
  {
   "cell_type": "code",
   "execution_count": 155,
   "id": "2e58ca8b-74c9-4f1e-9db2-0e5db822a78e",
   "metadata": {},
   "outputs": [
    {
     "data": {
      "text/plain": [
       "20.18"
      ]
     },
     "execution_count": 155,
     "metadata": {},
     "output_type": "execute_result"
    }
   ],
   "source": [
    "(data[\"Suspect_Identified\"].str.lower() == \"yes\").mean() * 100"
   ]
  },
  {
   "cell_type": "code",
   "execution_count": 161,
   "id": "f11f2347-5dd3-4e0b-92b4-c5fddfb5185a",
   "metadata": {},
   "outputs": [
    {
     "data": {
      "text/plain": [
       "'Silver'"
      ]
     },
     "execution_count": 161,
     "metadata": {},
     "output_type": "execute_result"
    }
   ],
   "source": [
    "data[data[\"Is_Recovered\"].str.lower() == \"yes\"][\"Color\"].value_counts().idxmax()"
   ]
  },
  {
   "cell_type": "code",
   "execution_count": null,
   "id": "5eae1d50-5227-4163-b5f6-19e1e22b135b",
   "metadata": {},
   "outputs": [],
   "source": []
  },
  {
   "cell_type": "markdown",
   "id": "35e2952a-7286-4eeb-9f1d-1339ab4f6c13",
   "metadata": {},
   "source": [
    "## Advanced Analysis\n",
    "\n",
    "- Analyze if having GPS installed affects the chances of recovery.\n",
    "- Check if CCTV availability at the theft location improves recovery rates.\n",
    "- Find the average number of previous thefts for vehicles that were successfully recovered.\n",
    "- Identify the relationship between car age (Year_of_Manufacture) and the likelihood of theft.\n"
   ]
  },
  {
   "cell_type": "code",
   "execution_count": 165,
   "id": "ed163b94-bbf9-4542-932a-baa0df754d72",
   "metadata": {},
   "outputs": [
    {
     "data": {
      "text/html": [
       "<div>\n",
       "<style scoped>\n",
       "    .dataframe tbody tr th:only-of-type {\n",
       "        vertical-align: middle;\n",
       "    }\n",
       "\n",
       "    .dataframe tbody tr th {\n",
       "        vertical-align: top;\n",
       "    }\n",
       "\n",
       "    .dataframe thead th {\n",
       "        text-align: right;\n",
       "    }\n",
       "</style>\n",
       "<table border=\"1\" class=\"dataframe\">\n",
       "  <thead>\n",
       "    <tr style=\"text-align: right;\">\n",
       "      <th>Is_Recovered</th>\n",
       "      <th>No</th>\n",
       "      <th>Yes</th>\n",
       "    </tr>\n",
       "    <tr>\n",
       "      <th>GPS_Installed</th>\n",
       "      <th></th>\n",
       "      <th></th>\n",
       "    </tr>\n",
       "  </thead>\n",
       "  <tbody>\n",
       "    <tr>\n",
       "      <th>No</th>\n",
       "      <td>69.471033</td>\n",
       "      <td>30.528967</td>\n",
       "    </tr>\n",
       "    <tr>\n",
       "      <th>Yes</th>\n",
       "      <td>69.765142</td>\n",
       "      <td>30.234858</td>\n",
       "    </tr>\n",
       "  </tbody>\n",
       "</table>\n",
       "</div>"
      ],
      "text/plain": [
       "Is_Recovered          No        Yes\n",
       "GPS_Installed                      \n",
       "No             69.471033  30.528967\n",
       "Yes            69.765142  30.234858"
      ]
     },
     "execution_count": 165,
     "metadata": {},
     "output_type": "execute_result"
    }
   ],
   "source": [
    "data.groupby(\"GPS_Installed\")[\"Is_Recovered\"].value_counts(normalize=True).unstack() * 100"
   ]
  },
  {
   "cell_type": "code",
   "execution_count": 169,
   "id": "42fdc825-c907-437f-a2e3-7ba5817b3a26",
   "metadata": {},
   "outputs": [
    {
     "data": {
      "text/html": [
       "<div>\n",
       "<style scoped>\n",
       "    .dataframe tbody tr th:only-of-type {\n",
       "        vertical-align: middle;\n",
       "    }\n",
       "\n",
       "    .dataframe tbody tr th {\n",
       "        vertical-align: top;\n",
       "    }\n",
       "\n",
       "    .dataframe thead th {\n",
       "        text-align: right;\n",
       "    }\n",
       "</style>\n",
       "<table border=\"1\" class=\"dataframe\">\n",
       "  <thead>\n",
       "    <tr style=\"text-align: right;\">\n",
       "      <th>Is_Recovered</th>\n",
       "      <th>No</th>\n",
       "      <th>Yes</th>\n",
       "    </tr>\n",
       "    <tr>\n",
       "      <th>CCTV_Availability</th>\n",
       "      <th></th>\n",
       "      <th></th>\n",
       "    </tr>\n",
       "  </thead>\n",
       "  <tbody>\n",
       "    <tr>\n",
       "      <th>No</th>\n",
       "      <td>69.485441</td>\n",
       "      <td>30.514559</td>\n",
       "    </tr>\n",
       "    <tr>\n",
       "      <th>Yes</th>\n",
       "      <td>69.695146</td>\n",
       "      <td>30.304854</td>\n",
       "    </tr>\n",
       "  </tbody>\n",
       "</table>\n",
       "</div>"
      ],
      "text/plain": [
       "Is_Recovered              No        Yes\n",
       "CCTV_Availability                      \n",
       "No                 69.485441  30.514559\n",
       "Yes                69.695146  30.304854"
      ]
     },
     "execution_count": 169,
     "metadata": {},
     "output_type": "execute_result"
    }
   ],
   "source": [
    "data.groupby(\"CCTV_Availability\")[\"Is_Recovered\"].value_counts(normalize=True).unstack() * 100"
   ]
  },
  {
   "cell_type": "code",
   "execution_count": 171,
   "id": "09eb6952-c867-4b83-8b82-b760a7b12a31",
   "metadata": {},
   "outputs": [
    {
     "data": {
      "text/plain": [
       "1.0095363367313384"
      ]
     },
     "execution_count": 171,
     "metadata": {},
     "output_type": "execute_result"
    }
   ],
   "source": [
    "data[data[\"Is_Recovered\"].str.lower() == \"yes\"][\"Number_of_Prev_Thefts\"].mean()"
   ]
  },
  {
   "cell_type": "code",
   "execution_count": null,
   "id": "0be70c37-92fe-4785-96ac-54648940b851",
   "metadata": {},
   "outputs": [],
   "source": []
  },
  {
   "cell_type": "markdown",
   "id": "89459946-e167-4652-8918-ccc6af8d1a64",
   "metadata": {},
   "source": [
    "## Visualization Ideas\n",
    "- Plot a bar chart showing the number of thefts by car brand.\n",
    "- Create a pie chart showing theft distribution by fuel type.\n",
    "- Visualize the monthly trend of car thefts using a line chart."
   ]
  },
  {
   "cell_type": "code",
   "execution_count": 185,
   "id": "81697121-6f80-41b7-85fe-215fadc79f5a",
   "metadata": {},
   "outputs": [
    {
     "data": {
      "image/png": "[encoded data removed]",
      "text/plain": [
       "<Figure size 1000x500 with 1 Axes>"
      ]
     },
     "metadata": {},
     "output_type": "display_data"
    }
   ],
   "source": [
    "plt.figure(figsize=(10, 5))\n",
    "data[\"Car_Brand\"].value_counts().plot(kind=\"bar\", color=\"green\")\n",
    "plt.title(\"Number of Thefts by Car Brand\")\n",
    "plt.xlabel(\"Car Brand\")\n",
    "plt.ylabel(\"Number of Thefts\")\n",
    "plt.xticks(rotation=45)\n",
    "plt.show()"
   ]
  },
  {
   "cell_type": "code",
   "execution_count": 189,
   "id": "b850c0a3-b022-4c7f-bcad-16d60a1467f8",
   "metadata": {},
   "outputs": [
    {
     "data": {
      "image/png": "[encoded data removed]",
      "text/plain": [
       "<Figure size 800x800 with 1 Axes>"
      ]
     },
     "metadata": {},
     "output_type": "display_data"
    }
   ],
   "source": [
    "plt.figure(figsize=(8, 8))\n",
    "data[\"Fuel_Type\"].value_counts().plot(kind=\"pie\", autopct=\"%1.1f%%\", colors=[\"lightcoral\", \"lightskyblue\", \"lightgreen\"])\n",
    "plt.title(\"Theft Distribution by Fuel Type\")\n",
    "plt.ylabel(\"\")\n",
    "plt.show()"
   ]
  },
  {
   "cell_type": "code",
   "execution_count": 191,
   "id": "d71d1994-cc7f-4170-afa2-5890900fed60",
   "metadata": {},
   "outputs": [
    {
     "data": {
      "image/png": "[encoded data removed]",
      "text/plain": [
       "<Figure size 1000x500 with 1 Axes>"
      ]
     },
     "metadata": {},
     "output_type": "display_data"
    }
   ],
   "source": [
    "plt.figure(figsize=(10, 5))\n",
    "data[\"Theft_Date\"].dt.month.value_counts().sort_index().plot(kind=\"line\", marker=\"o\", color=\"red\")\n",
    "plt.title(\"Monthly Trend of Car Thefts\")\n",
    "plt.xlabel(\"Month\")\n",
    "plt.ylabel(\"Number of Thefts\")\n",
    "plt.grid()\n",
    "plt.show()"
   ]
  },
  {
   "cell_type": "code",
   "execution_count": null,
   "id": "c0aae114-beb8-4415-bb29-36379e4e80eb",
   "metadata": {},
   "outputs": [],
   "source": []
  },
  {
   "cell_type": "code",
   "execution_count": null,
   "id": "3fcce30c-a919-40a2-8a1a-fcd91ae6c9ce",
   "metadata": {},
   "outputs": [],
   "source": []
  },
  {
   "cell_type": "code",
   "execution_count": null,
   "id": "b8d89088-89a9-48c2-860d-bc1ebc7c85cf",
   "metadata": {},
   "outputs": [],
   "source": []
  }
 ],
 "metadata": {
  "kernelspec": {
   "display_name": "Python [conda env:base] *",
   "language": "python",
   "name": "conda-base-py"
  },
  "language_info": {
   "codemirror_mode": {
    "name": "ipython",
    "version": 3
   },
   "file_extension": ".py",
   "mimetype": "text/x-python",
   "name": "python",
   "nbconvert_exporter": "python",
   "pygments_lexer": "ipython3",
   "version": "3.12.7"
  }
 },
 "nbformat": 4,
 "nbformat_minor": 5
}
